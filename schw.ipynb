{
 "cells": [
  {
   "cell_type": "code",
   "execution_count": 1,
   "metadata": {},
   "outputs": [],
   "source": [
    "import sympy\n",
    "from einsteinpy.symbolic import SchwarzschildMetric, MetricTensor, ChristoffelSymbols, RiemannCurvatureTensor, RicciTensor, RicciScalar"
   ]
  },
  {
   "cell_type": "code",
   "execution_count": 2,
   "metadata": {},
   "outputs": [
    {
     "data": {
      "text/latex": [
       "$\\displaystyle \\left[\\begin{matrix}- \\frac{a}{r} + 1 & 0 & 0 & 0\\\\0 & - \\frac{1}{c^{2} \\left(- \\frac{a}{r} + 1\\right)} & 0 & 0\\\\0 & 0 & - \\frac{r^{2}}{c^{2}} & 0\\\\0 & 0 & 0 & - \\frac{r^{2} \\sin^{2}{\\left(\\theta \\right)}}{c^{2}}\\end{matrix}\\right]$"
      ],
      "text/plain": [
       "[[-a/r + 1, 0, 0, 0], [0, -1/(c**2*(-a/r + 1)), 0, 0], [0, 0, -r**2/c**2, 0], [0, 0, 0, -r**2*sin(theta)**2/c**2]]"
      ]
     },
     "execution_count": 2,
     "metadata": {},
     "output_type": "execute_result"
    }
   ],
   "source": [
    "mt = SchwarzschildMetric()\n",
    "mt.tensor()"
   ]
  },
  {
   "cell_type": "code",
   "execution_count": 3,
   "metadata": {},
   "outputs": [
    {
     "data": {
      "text/latex": [
       "$\\displaystyle \\left[\\begin{matrix}\\left[\\begin{matrix}0 & \\frac{a}{2 r^{2} \\left(- \\frac{a}{r} + 1\\right)} & 0 & 0\\\\\\frac{a}{2 r^{2} \\left(- \\frac{a}{r} + 1\\right)} & 0 & 0 & 0\\\\0 & 0 & 0 & 0\\\\0 & 0 & 0 & 0\\end{matrix}\\right] & \\left[\\begin{matrix}\\frac{a c^{2} \\left(- \\frac{a}{r} + 1\\right)}{2 r^{2}} & 0 & 0 & 0\\\\0 & - \\frac{a}{2 r^{2} \\left(- \\frac{a}{r} + 1\\right)} & 0 & 0\\\\0 & 0 & - r \\left(- \\frac{a}{r} + 1\\right) & 0\\\\0 & 0 & 0 & - r \\left(- \\frac{a}{r} + 1\\right) \\sin^{2}{\\left(\\theta \\right)}\\end{matrix}\\right] & \\left[\\begin{matrix}0 & 0 & 0 & 0\\\\0 & 0 & \\frac{1}{r} & 0\\\\0 & \\frac{1}{r} & 0 & 0\\\\0 & 0 & 0 & - \\sin{\\left(\\theta \\right)} \\cos{\\left(\\theta \\right)}\\end{matrix}\\right] & \\left[\\begin{matrix}0 & 0 & 0 & 0\\\\0 & 0 & 0 & \\frac{1}{r}\\\\0 & 0 & 0 & \\frac{\\cos{\\left(\\theta \\right)}}{\\sin{\\left(\\theta \\right)}}\\\\0 & \\frac{1}{r} & \\frac{\\cos{\\left(\\theta \\right)}}{\\sin{\\left(\\theta \\right)}} & 0\\end{matrix}\\right]\\end{matrix}\\right]$"
      ],
      "text/plain": [
       "[[[0, a/(2*r**2*(-a/r + 1)), 0, 0], [a/(2*r**2*(-a/r + 1)), 0, 0, 0], [0, 0, 0, 0], [0, 0, 0, 0]], [[a*c**2*(-a/r + 1)/(2*r**2), 0, 0, 0], [0, -a/(2*r**2*(-a/r + 1)), 0, 0], [0, 0, -r*(-a/r + 1), 0], [0, 0, 0, -r*(-a/r + 1)*sin(theta)**2]], [[0, 0, 0, 0], [0, 0, 1/r, 0], [0, 1/r, 0, 0], [0, 0, 0, -sin(theta)*cos(theta)]], [[0, 0, 0, 0], [0, 0, 0, 1/r], [0, 0, 0, cos(theta)/sin(theta)], [0, 1/r, cos(theta)/sin(theta), 0]]]"
      ]
     },
     "execution_count": 3,
     "metadata": {},
     "output_type": "execute_result"
    }
   ],
   "source": [
    "cs = ChristoffelSymbols.from_metric(mt)\n",
    "cs.tensor()"
   ]
  },
  {
   "cell_type": "code",
   "execution_count": 4,
   "metadata": {},
   "outputs": [
    {
     "data": {
      "text/latex": [
       "$\\displaystyle \\left[\\begin{matrix}\\left[\\begin{matrix}0 & 0 & 0 & 0\\\\0 & \\frac{a}{r^{2} \\left(a - r\\right)} & 0 & 0\\\\0 & 0 & \\frac{a}{2 r} & 0\\\\0 & 0 & 0 & \\frac{a \\sin^{2}{\\left(\\theta \\right)}}{2 r}\\end{matrix}\\right] & \\left[\\begin{matrix}0 & \\frac{a}{r^{2} \\left(- a + r\\right)} & 0 & 0\\\\0 & 0 & 0 & 0\\\\0 & 0 & 0 & 0\\\\0 & 0 & 0 & 0\\end{matrix}\\right] & \\left[\\begin{matrix}0 & 0 & - \\frac{a}{2 r} & 0\\\\0 & 0 & 0 & 0\\\\0 & 0 & 0 & 0\\\\0 & 0 & 0 & 0\\end{matrix}\\right] & \\left[\\begin{matrix}0 & 0 & 0 & - \\frac{a \\sin^{2}{\\left(\\theta \\right)}}{2 r}\\\\0 & 0 & 0 & 0\\\\0 & 0 & 0 & 0\\\\0 & 0 & 0 & 0\\end{matrix}\\right]\\\\\\left[\\begin{matrix}0 & 0 & 0 & 0\\\\\\frac{a c^{2} \\left(a - r\\right)}{r^{4}} & 0 & 0 & 0\\\\0 & 0 & 0 & 0\\\\0 & 0 & 0 & 0\\end{matrix}\\right] & \\left[\\begin{matrix}\\frac{a c^{2} \\left(- a + r\\right)}{r^{4}} & 0 & 0 & 0\\\\0 & 0 & 0 & 0\\\\0 & 0 & \\frac{a}{2 r} & 0\\\\0 & 0 & 0 & \\frac{a \\sin^{2}{\\left(\\theta \\right)}}{2 r}\\end{matrix}\\right] & \\left[\\begin{matrix}0 & 0 & 0 & 0\\\\0 & 0 & - \\frac{a}{2 r} & 0\\\\0 & 0 & 0 & 0\\\\0 & 0 & 0 & 0\\end{matrix}\\right] & \\left[\\begin{matrix}0 & 0 & 0 & 0\\\\0 & 0 & 0 & - \\frac{a \\sin^{2}{\\left(\\theta \\right)}}{2 r}\\\\0 & 0 & 0 & 0\\\\0 & 0 & 0 & 0\\end{matrix}\\right]\\\\\\left[\\begin{matrix}0 & 0 & 0 & 0\\\\0 & 0 & 0 & 0\\\\\\frac{a c^{2} \\left(- a + r\\right)}{2 r^{4}} & 0 & 0 & 0\\\\0 & 0 & 0 & 0\\end{matrix}\\right] & \\left[\\begin{matrix}0 & 0 & 0 & 0\\\\0 & 0 & 0 & 0\\\\0 & \\frac{a}{2 r^{2} \\left(a - r\\right)} & 0 & 0\\\\0 & 0 & 0 & 0\\end{matrix}\\right] & \\left[\\begin{matrix}\\frac{a c^{2} \\left(a - r\\right)}{2 r^{4}} & 0 & 0 & 0\\\\0 & \\frac{a}{2 r^{2} \\left(- a + r\\right)} & 0 & 0\\\\0 & 0 & 0 & 0\\\\0 & 0 & 0 & - \\frac{a \\sin^{2}{\\left(\\theta \\right)}}{r}\\end{matrix}\\right] & \\left[\\begin{matrix}0 & 0 & 0 & 0\\\\0 & 0 & 0 & 0\\\\0 & 0 & 0 & \\frac{a \\sin^{2}{\\left(\\theta \\right)}}{r}\\\\0 & 0 & 0 & 0\\end{matrix}\\right]\\\\\\left[\\begin{matrix}0 & 0 & 0 & 0\\\\0 & 0 & 0 & 0\\\\0 & 0 & 0 & 0\\\\\\frac{a c^{2} \\left(- a + r\\right)}{2 r^{4}} & 0 & 0 & 0\\end{matrix}\\right] & \\left[\\begin{matrix}0 & 0 & 0 & 0\\\\0 & 0 & 0 & 0\\\\0 & 0 & 0 & 0\\\\0 & \\frac{a}{2 r^{2} \\left(a - r\\right)} & 0 & 0\\end{matrix}\\right] & \\left[\\begin{matrix}0 & 0 & 0 & 0\\\\0 & 0 & 0 & 0\\\\0 & 0 & 0 & 0\\\\0 & 0 & \\frac{a}{r} & 0\\end{matrix}\\right] & \\left[\\begin{matrix}\\frac{a c^{2} \\left(a - r\\right)}{2 r^{4}} & 0 & 0 & 0\\\\0 & \\frac{a}{2 r^{2} \\left(- a + r\\right)} & 0 & 0\\\\0 & 0 & - \\frac{a}{r} & 0\\\\0 & 0 & 0 & 0\\end{matrix}\\right]\\end{matrix}\\right]$"
      ],
      "text/plain": [
       "[[[[0, 0, 0, 0], [0, a/(r**2*(a - r)), 0, 0], [0, 0, a/(2*r), 0], [0, 0, 0, a*sin(theta)**2/(2*r)]], [[0, a/(r**2*(-a + r)), 0, 0], [0, 0, 0, 0], [0, 0, 0, 0], [0, 0, 0, 0]], [[0, 0, -a/(2*r), 0], [0, 0, 0, 0], [0, 0, 0, 0], [0, 0, 0, 0]], [[0, 0, 0, -a*sin(theta)**2/(2*r)], [0, 0, 0, 0], [0, 0, 0, 0], [0, 0, 0, 0]]], [[[0, 0, 0, 0], [a*c**2*(a - r)/r**4, 0, 0, 0], [0, 0, 0, 0], [0, 0, 0, 0]], [[a*c**2*(-a + r)/r**4, 0, 0, 0], [0, 0, 0, 0], [0, 0, a/(2*r), 0], [0, 0, 0, a*sin(theta)**2/(2*r)]], [[0, 0, 0, 0], [0, 0, -a/(2*r), 0], [0, 0, 0, 0], [0, 0, 0, 0]], [[0, 0, 0, 0], [0, 0, 0, -a*sin(theta)**2/(2*r)], [0, 0, 0, 0], [0, 0, 0, 0]]], [[[0, 0, 0, 0], [0, 0, 0, 0], [a*c**2*(-a + r)/(2*r**4), 0, 0, 0], [0, 0, 0, 0]], [[0, 0, 0, 0], [0, 0, 0, 0], [0, a/(2*r**2*(a - r)), 0, 0], [0, 0, 0, 0]], [[a*c**2*(a - r)/(2*r**4), 0, 0, 0], [0, a/(2*r**2*(-a + r)), 0, 0], [0, 0, 0, 0], [0, 0, 0, -a*sin(theta)**2/r]], [[0, 0, 0, 0], [0, 0, 0, 0], [0, 0, 0, a*sin(theta)**2/r], [0, 0, 0, 0]]], [[[0, 0, 0, 0], [0, 0, 0, 0], [0, 0, 0, 0], [a*c**2*(-a + r)/(2*r**4), 0, 0, 0]], [[0, 0, 0, 0], [0, 0, 0, 0], [0, 0, 0, 0], [0, a/(2*r**2*(a - r)), 0, 0]], [[0, 0, 0, 0], [0, 0, 0, 0], [0, 0, 0, 0], [0, 0, a/r, 0]], [[a*c**2*(a - r)/(2*r**4), 0, 0, 0], [0, a/(2*r**2*(-a + r)), 0, 0], [0, 0, -a/r, 0], [0, 0, 0, 0]]]]"
      ]
     },
     "execution_count": 4,
     "metadata": {},
     "output_type": "execute_result"
    }
   ],
   "source": [
    "rct = RiemannCurvatureTensor.from_christoffels(cs)\n",
    "rct.tensor()"
   ]
  },
  {
   "cell_type": "code",
   "execution_count": 5,
   "metadata": {},
   "outputs": [
    {
     "data": {
      "text/latex": [
       "$\\displaystyle \\left[\\begin{matrix}\\frac{a c^{2} \\left(- a + r\\right)}{r^{4}} + \\frac{a c^{2} \\left(a - r\\right)}{r^{4}} & 0 & 0 & 0\\\\0 & \\frac{a}{r^{2} \\left(a - r\\right)} + \\frac{a}{r^{2} \\left(- a + r\\right)} & 0 & 0\\\\0 & 0 & 0 & 0\\\\0 & 0 & 0 & 0\\end{matrix}\\right]$"
      ],
      "text/plain": [
       "[[a*c**2*(-a + r)/r**4 + a*c**2*(a - r)/r**4, 0, 0, 0], [0, a/(r**2*(a - r)) + a/(r**2*(-a + r)), 0, 0], [0, 0, 0, 0], [0, 0, 0, 0]]"
      ]
     },
     "execution_count": 5,
     "metadata": {},
     "output_type": "execute_result"
    }
   ],
   "source": [
    "rc = RicciTensor.from_metric(mt)\n",
    "rc.tensor()"
   ]
  },
  {
   "cell_type": "code",
   "execution_count": 6,
   "metadata": {},
   "outputs": [
    {
     "data": {
      "text/latex": [
       "$\\displaystyle 0$"
      ],
      "text/plain": [
       "0"
      ]
     },
     "execution_count": 6,
     "metadata": {},
     "output_type": "execute_result"
    }
   ],
   "source": [
    "re = RicciScalar.from_riccitensor(rc)\n",
    "re.expr"
   ]
  },
  {
   "cell_type": "code",
   "execution_count": null,
   "metadata": {},
   "outputs": [],
   "source": []
  }
 ],
 "metadata": {
  "kernelspec": {
   "display_name": "Python 3",
   "language": "python",
   "name": "python3"
  },
  "language_info": {
   "codemirror_mode": {
    "name": "ipython",
    "version": 3
   },
   "file_extension": ".py",
   "mimetype": "text/x-python",
   "name": "python",
   "nbconvert_exporter": "python",
   "pygments_lexer": "ipython3",
   "version": "3.7.4"
  }
 },
 "nbformat": 4,
 "nbformat_minor": 2
}
