{
 "cells": [
  {
   "cell_type": "code",
   "execution_count": 1,
   "metadata": {},
   "outputs": [],
   "source": [
    "import sympy\n",
    "from sympy import cos, sin, sqrt\n",
    "from einsteinpy.symbolic import SchwarzschildMetric, MetricTensor, ChristoffelSymbols, RiemannCurvatureTensor, RicciTensor, RicciScalar"
   ]
  },
  {
   "cell_type": "code",
   "execution_count": 2,
   "metadata": {
    "scrolled": true
   },
   "outputs": [
    {
     "data": {
      "text/latex": [
       "$\\displaystyle \\left[\\begin{matrix}- \\frac{2 r u}{a^{2} \\cos^{2}{\\left(\\theta \\right)} + r^{2}} + 1 & 0 & 0 & - \\frac{4 a r u \\sin^{2}{\\left(\\theta \\right)}}{c \\left(a^{2} \\cos^{2}{\\left(\\theta \\right)} + r^{2}\\right)}\\\\0 & \\frac{- a^{2} \\cos^{2}{\\left(\\theta \\right)} - r^{2}}{c^{2} \\left(a^{2} + r^{2} - 2 r u\\right)} & 0 & 0\\\\0 & 0 & \\frac{- a^{2} \\cos^{2}{\\left(\\theta \\right)} - r^{2}}{c^{2}} & 0\\\\0 & 0 & 0 & \\frac{\\left(- \\frac{2 a^{2} r u \\sin^{2}{\\left(\\theta \\right)}}{a^{2} \\cos^{2}{\\left(\\theta \\right)} + r^{2}} - a^{2} - r^{2}\\right) \\sin^{2}{\\left(\\theta \\right)}}{c^{2}}\\end{matrix}\\right]$"
      ],
      "text/plain": [
       "[[-2*r*u/(a**2*cos(theta)**2 + r**2) + 1, 0, 0, -4*a*r*u*sin(theta)**2/(c*(a**2*cos(theta)**2 + r**2))], [0, (-a**2*cos(theta)**2 - r**2)/(c**2*(a**2 + r**2 - 2*r*u)), 0, 0], [0, 0, (-a**2*cos(theta)**2 - r**2)/c**2, 0], [0, 0, 0, (-2*a**2*r*u*sin(theta)**2/(a**2*cos(theta)**2 + r**2) - a**2 - r**2)*sin(theta)**2/c**2]]"
      ]
     },
     "execution_count": 2,
     "metadata": {},
     "output_type": "execute_result"
    }
   ],
   "source": [
    "syms = sympy.symbols(\"t r theta phi\")\n",
    "t, r, th, ph = syms\n",
    "u, c, a = sympy.symbols(\"u c a\")\n",
    "# using metric values of schwarschild space-time\n",
    "# a is schwarzschild radius\n",
    "p = sqrt(r**2 + (a**2)*(cos(th)**2))\n",
    "d = r**2 - 2*u*r + a**2\n",
    "listmt = [[0 for i in range(4)] for i in range(4)]\n",
    "listmt[0][0] = (1 - 2*u*r/(p**2))\n",
    "listmt[0][3] = -1*(4*u*a*c*r*(sin(th)**2))/((p**2)*(c**2))\n",
    "listmt[1][1] = -1*(p**2)/(d*(c**2))\n",
    "listmt[2][2] = -1*(p**2)/(c**2)\n",
    "listmt[3][3] = -1*(r**2 + a**2 + (2*u*r*(a**2)*(sin(th)**2))/p**2)*(sin(th)**2)/(c**2)\n",
    "mt = MetricTensor(listmt, syms)\n",
    "mt.tensor()"
   ]
  },
  {
   "cell_type": "code",
   "execution_count": 3,
   "metadata": {},
   "outputs": [
    {
     "data": {
      "text/latex": [
       "$\\displaystyle \\left[\\begin{matrix}\\frac{a^{2} \\cos^{2}{\\left(\\theta \\right)} + r^{2} - 2 r u}{a^{2} \\cos^{2}{\\left(\\theta \\right)} + r^{2}} & 0 & 0 & - \\frac{4 a r u \\sin^{2}{\\left(\\theta \\right)}}{c \\left(a^{2} \\cos^{2}{\\left(\\theta \\right)} + r^{2}\\right)}\\\\0 & - \\frac{a^{2} \\cos^{2}{\\left(\\theta \\right)} + r^{2}}{c^{2} \\left(a^{2} + r^{2} - 2 r u\\right)} & 0 & 0\\\\0 & 0 & - \\frac{a^{2} \\cos^{2}{\\left(\\theta \\right)} + r^{2}}{c^{2}} & 0\\\\0 & 0 & 0 & - \\frac{\\left(2 a^{2} r u \\sin^{2}{\\left(\\theta \\right)} + \\left(a^{2} + r^{2}\\right) \\left(a^{2} \\cos^{2}{\\left(\\theta \\right)} + r^{2}\\right)\\right) \\sin^{2}{\\left(\\theta \\right)}}{c^{2} \\left(a^{2} \\cos^{2}{\\left(\\theta \\right)} + r^{2}\\right)}\\end{matrix}\\right]$"
      ],
      "text/plain": [
       "[[(a**2*cos(theta)**2 + r**2 - 2*r*u)/(a**2*cos(theta)**2 + r**2), 0, 0, -4*a*r*u*sin(theta)**2/(c*(a**2*cos(theta)**2 + r**2))], [0, -(a**2*cos(theta)**2 + r**2)/(c**2*(a**2 + r**2 - 2*r*u)), 0, 0], [0, 0, -(a**2*cos(theta)**2 + r**2)/c**2, 0], [0, 0, 0, -(2*a**2*r*u*sin(theta)**2 + (a**2 + r**2)*(a**2*cos(theta)**2 + r**2))*sin(theta)**2/(c**2*(a**2*cos(theta)**2 + r**2))]]"
      ]
     },
     "execution_count": 3,
     "metadata": {},
     "output_type": "execute_result"
    }
   ],
   "source": [
    "mts = mt.simplify()\n",
    "mts"
   ]
  },
  {
   "cell_type": "code",
   "execution_count": 4,
   "metadata": {},
   "outputs": [
    {
     "data": {
      "text/latex": [
       "$\\displaystyle \\left[\\begin{matrix}\\left[\\begin{matrix}0 & \\frac{\\frac{4 r^{2} u}{\\left(a^{2} \\cos^{2}{\\left(\\theta \\right)} + r^{2}\\right)^{2}} - \\frac{2 u}{a^{2} \\cos^{2}{\\left(\\theta \\right)} + r^{2}}}{2 \\left(- \\frac{2 r u}{a^{2} \\cos^{2}{\\left(\\theta \\right)} + r^{2}} + 1\\right)} & - \\frac{2 a^{2} r u \\sin{\\left(\\theta \\right)} \\cos{\\left(\\theta \\right)}}{\\left(a^{2} \\cos^{2}{\\left(\\theta \\right)} + r^{2}\\right)^{2} \\left(- \\frac{2 r u}{a^{2} \\cos^{2}{\\left(\\theta \\right)} + r^{2}} + 1\\right)} & 0\\\\\\frac{\\frac{4 r^{2} u}{\\left(a^{2} \\cos^{2}{\\left(\\theta \\right)} + r^{2}\\right)^{2}} - \\frac{2 u}{a^{2} \\cos^{2}{\\left(\\theta \\right)} + r^{2}}}{2 \\left(- \\frac{2 r u}{a^{2} \\cos^{2}{\\left(\\theta \\right)} + r^{2}} + 1\\right)} & 0 & 0 & \\frac{2 a r u \\left(\\frac{4 a^{2} r^{2} u \\sin^{2}{\\left(\\theta \\right)}}{\\left(a^{2} \\cos^{2}{\\left(\\theta \\right)} + r^{2}\\right)^{2}} - \\frac{2 a^{2} u \\sin^{2}{\\left(\\theta \\right)}}{a^{2} \\cos^{2}{\\left(\\theta \\right)} + r^{2}} - 2 r\\right) \\sin^{2}{\\left(\\theta \\right)}}{c \\left(a^{2} \\cos^{2}{\\left(\\theta \\right)} + r^{2}\\right) \\left(- \\frac{2 r u}{a^{2} \\cos^{2}{\\left(\\theta \\right)} + r^{2}} + 1\\right) \\left(- \\frac{2 a^{2} r u \\sin^{2}{\\left(\\theta \\right)}}{a^{2} \\cos^{2}{\\left(\\theta \\right)} + r^{2}} - a^{2} - r^{2}\\right)} + \\frac{\\frac{8 a r^{2} u \\sin^{2}{\\left(\\theta \\right)}}{c \\left(a^{2} \\cos^{2}{\\left(\\theta \\right)} + r^{2}\\right)^{2}} - \\frac{4 a u \\sin^{2}{\\left(\\theta \\right)}}{c \\left(a^{2} \\cos^{2}{\\left(\\theta \\right)} + r^{2}\\right)}}{2 \\left(- \\frac{2 r u}{a^{2} \\cos^{2}{\\left(\\theta \\right)} + r^{2}} + 1\\right)}\\\\- \\frac{2 a^{2} r u \\sin{\\left(\\theta \\right)} \\cos{\\left(\\theta \\right)}}{\\left(a^{2} \\cos^{2}{\\left(\\theta \\right)} + r^{2}\\right)^{2} \\left(- \\frac{2 r u}{a^{2} \\cos^{2}{\\left(\\theta \\right)} + r^{2}} + 1\\right)} & 0 & 0 & \\frac{2 a c r u \\left(\\frac{\\left(- \\frac{4 a^{4} r u \\sin^{3}{\\left(\\theta \\right)} \\cos{\\left(\\theta \\right)}}{\\left(a^{2} \\cos^{2}{\\left(\\theta \\right)} + r^{2}\\right)^{2}} - \\frac{4 a^{2} r u \\sin{\\left(\\theta \\right)} \\cos{\\left(\\theta \\right)}}{a^{2} \\cos^{2}{\\left(\\theta \\right)} + r^{2}}\\right) \\sin^{2}{\\left(\\theta \\right)}}{c^{2}} + \\frac{2 \\left(- \\frac{2 a^{2} r u \\sin^{2}{\\left(\\theta \\right)}}{a^{2} \\cos^{2}{\\left(\\theta \\right)} + r^{2}} - a^{2} - r^{2}\\right) \\sin{\\left(\\theta \\right)} \\cos{\\left(\\theta \\right)}}{c^{2}}\\right)}{\\left(a^{2} \\cos^{2}{\\left(\\theta \\right)} + r^{2}\\right) \\left(- \\frac{2 r u}{a^{2} \\cos^{2}{\\left(\\theta \\right)} + r^{2}} + 1\\right) \\left(- \\frac{2 a^{2} r u \\sin^{2}{\\left(\\theta \\right)}}{a^{2} \\cos^{2}{\\left(\\theta \\right)} + r^{2}} - a^{2} - r^{2}\\right)} + \\frac{- \\frac{8 a^{3} r u \\sin^{3}{\\left(\\theta \\right)} \\cos{\\left(\\theta \\right)}}{c \\left(a^{2} \\cos^{2}{\\left(\\theta \\right)} + r^{2}\\right)^{2}} - \\frac{8 a r u \\sin{\\left(\\theta \\right)} \\cos{\\left(\\theta \\right)}}{c \\left(a^{2} \\cos^{2}{\\left(\\theta \\right)} + r^{2}\\right)}}{2 \\left(- \\frac{2 r u}{a^{2} \\cos^{2}{\\left(\\theta \\right)} + r^{2}} + 1\\right)}\\\\0 & \\frac{2 a r u \\left(\\frac{4 a^{2} r^{2} u \\sin^{2}{\\left(\\theta \\right)}}{\\left(a^{2} \\cos^{2}{\\left(\\theta \\right)} + r^{2}\\right)^{2}} - \\frac{2 a^{2} u \\sin^{2}{\\left(\\theta \\right)}}{a^{2} \\cos^{2}{\\left(\\theta \\right)} + r^{2}} - 2 r\\right) \\sin^{2}{\\left(\\theta \\right)}}{c \\left(a^{2} \\cos^{2}{\\left(\\theta \\right)} + r^{2}\\right) \\left(- \\frac{2 r u}{a^{2} \\cos^{2}{\\left(\\theta \\right)} + r^{2}} + 1\\right) \\left(- \\frac{2 a^{2} r u \\sin^{2}{\\left(\\theta \\right)}}{a^{2} \\cos^{2}{\\left(\\theta \\right)} + r^{2}} - a^{2} - r^{2}\\right)} + \\frac{\\frac{8 a r^{2} u \\sin^{2}{\\left(\\theta \\right)}}{c \\left(a^{2} \\cos^{2}{\\left(\\theta \\right)} + r^{2}\\right)^{2}} - \\frac{4 a u \\sin^{2}{\\left(\\theta \\right)}}{c \\left(a^{2} \\cos^{2}{\\left(\\theta \\right)} + r^{2}\\right)}}{2 \\left(- \\frac{2 r u}{a^{2} \\cos^{2}{\\left(\\theta \\right)} + r^{2}} + 1\\right)} & \\frac{2 a c r u \\left(\\frac{\\left(- \\frac{4 a^{4} r u \\sin^{3}{\\left(\\theta \\right)} \\cos{\\left(\\theta \\right)}}{\\left(a^{2} \\cos^{2}{\\left(\\theta \\right)} + r^{2}\\right)^{2}} - \\frac{4 a^{2} r u \\sin{\\left(\\theta \\right)} \\cos{\\left(\\theta \\right)}}{a^{2} \\cos^{2}{\\left(\\theta \\right)} + r^{2}}\\right) \\sin^{2}{\\left(\\theta \\right)}}{c^{2}} + \\frac{2 \\left(- \\frac{2 a^{2} r u \\sin^{2}{\\left(\\theta \\right)}}{a^{2} \\cos^{2}{\\left(\\theta \\right)} + r^{2}} - a^{2} - r^{2}\\right) \\sin{\\left(\\theta \\right)} \\cos{\\left(\\theta \\right)}}{c^{2}}\\right)}{\\left(a^{2} \\cos^{2}{\\left(\\theta \\right)} + r^{2}\\right) \\left(- \\frac{2 r u}{a^{2} \\cos^{2}{\\left(\\theta \\right)} + r^{2}} + 1\\right) \\left(- \\frac{2 a^{2} r u \\sin^{2}{\\left(\\theta \\right)}}{a^{2} \\cos^{2}{\\left(\\theta \\right)} + r^{2}} - a^{2} - r^{2}\\right)} + \\frac{- \\frac{8 a^{3} r u \\sin^{3}{\\left(\\theta \\right)} \\cos{\\left(\\theta \\right)}}{c \\left(a^{2} \\cos^{2}{\\left(\\theta \\right)} + r^{2}\\right)^{2}} - \\frac{8 a r u \\sin{\\left(\\theta \\right)} \\cos{\\left(\\theta \\right)}}{c \\left(a^{2} \\cos^{2}{\\left(\\theta \\right)} + r^{2}\\right)}}{2 \\left(- \\frac{2 r u}{a^{2} \\cos^{2}{\\left(\\theta \\right)} + r^{2}} + 1\\right)} & 0\\end{matrix}\\right] & \\left[\\begin{matrix}\\frac{c^{2} \\left(- \\frac{4 r^{2} u}{\\left(a^{2} \\cos^{2}{\\left(\\theta \\right)} + r^{2}\\right)^{2}} + \\frac{2 u}{a^{2} \\cos^{2}{\\left(\\theta \\right)} + r^{2}}\\right) \\left(a^{2} + r^{2} - 2 r u\\right)}{2 \\left(- a^{2} \\cos^{2}{\\left(\\theta \\right)} - r^{2}\\right)} & 0 & 0 & 0\\\\0 & \\frac{c^{2} \\left(- \\frac{2 r}{c^{2} \\left(a^{2} + r^{2} - 2 r u\\right)} + \\frac{\\left(- 2 r + 2 u\\right) \\left(- a^{2} \\cos^{2}{\\left(\\theta \\right)} - r^{2}\\right)}{c^{2} \\left(a^{2} + r^{2} - 2 r u\\right)^{2}}\\right) \\left(a^{2} + r^{2} - 2 r u\\right)}{2 \\left(- a^{2} \\cos^{2}{\\left(\\theta \\right)} - r^{2}\\right)} & \\frac{a^{2} \\sin{\\left(\\theta \\right)} \\cos{\\left(\\theta \\right)}}{- a^{2} \\cos^{2}{\\left(\\theta \\right)} - r^{2}} & 0\\\\0 & \\frac{a^{2} \\sin{\\left(\\theta \\right)} \\cos{\\left(\\theta \\right)}}{- a^{2} \\cos^{2}{\\left(\\theta \\right)} - r^{2}} & \\frac{r \\left(a^{2} + r^{2} - 2 r u\\right)}{- a^{2} \\cos^{2}{\\left(\\theta \\right)} - r^{2}} & 0\\\\0 & 0 & 0 & - \\frac{\\left(a^{2} + r^{2} - 2 r u\\right) \\left(\\frac{4 a^{2} r^{2} u \\sin^{2}{\\left(\\theta \\right)}}{\\left(a^{2} \\cos^{2}{\\left(\\theta \\right)} + r^{2}\\right)^{2}} - \\frac{2 a^{2} u \\sin^{2}{\\left(\\theta \\right)}}{a^{2} \\cos^{2}{\\left(\\theta \\right)} + r^{2}} - 2 r\\right) \\sin^{2}{\\left(\\theta \\right)}}{2 \\left(- a^{2} \\cos^{2}{\\left(\\theta \\right)} - r^{2}\\right)}\\end{matrix}\\right] & \\left[\\begin{matrix}\\frac{2 a^{2} c^{2} r u \\sin{\\left(\\theta \\right)} \\cos{\\left(\\theta \\right)}}{\\left(- a^{2} \\cos^{2}{\\left(\\theta \\right)} - r^{2}\\right) \\left(a^{2} \\cos^{2}{\\left(\\theta \\right)} + r^{2}\\right)^{2}} & 0 & 0 & 0\\\\0 & - \\frac{a^{2} \\sin{\\left(\\theta \\right)} \\cos{\\left(\\theta \\right)}}{\\left(- a^{2} \\cos^{2}{\\left(\\theta \\right)} - r^{2}\\right) \\left(a^{2} + r^{2} - 2 r u\\right)} & - \\frac{r}{- a^{2} \\cos^{2}{\\left(\\theta \\right)} - r^{2}} & 0\\\\0 & - \\frac{r}{- a^{2} \\cos^{2}{\\left(\\theta \\right)} - r^{2}} & \\frac{a^{2} \\sin{\\left(\\theta \\right)} \\cos{\\left(\\theta \\right)}}{- a^{2} \\cos^{2}{\\left(\\theta \\right)} - r^{2}} & 0\\\\0 & 0 & 0 & \\frac{c^{2} \\left(- \\frac{\\left(- \\frac{4 a^{4} r u \\sin^{3}{\\left(\\theta \\right)} \\cos{\\left(\\theta \\right)}}{\\left(a^{2} \\cos^{2}{\\left(\\theta \\right)} + r^{2}\\right)^{2}} - \\frac{4 a^{2} r u \\sin{\\left(\\theta \\right)} \\cos{\\left(\\theta \\right)}}{a^{2} \\cos^{2}{\\left(\\theta \\right)} + r^{2}}\\right) \\sin^{2}{\\left(\\theta \\right)}}{c^{2}} - \\frac{2 \\left(- \\frac{2 a^{2} r u \\sin^{2}{\\left(\\theta \\right)}}{a^{2} \\cos^{2}{\\left(\\theta \\right)} + r^{2}} - a^{2} - r^{2}\\right) \\sin{\\left(\\theta \\right)} \\cos{\\left(\\theta \\right)}}{c^{2}}\\right)}{2 \\left(- a^{2} \\cos^{2}{\\left(\\theta \\right)} - r^{2}\\right)}\\end{matrix}\\right] & \\left[\\begin{matrix}0 & 0 & 0 & 0\\\\0 & 0 & 0 & \\frac{\\frac{4 a^{2} r^{2} u \\sin^{2}{\\left(\\theta \\right)}}{\\left(a^{2} \\cos^{2}{\\left(\\theta \\right)} + r^{2}\\right)^{2}} - \\frac{2 a^{2} u \\sin^{2}{\\left(\\theta \\right)}}{a^{2} \\cos^{2}{\\left(\\theta \\right)} + r^{2}} - 2 r}{2 \\left(- \\frac{2 a^{2} r u \\sin^{2}{\\left(\\theta \\right)}}{a^{2} \\cos^{2}{\\left(\\theta \\right)} + r^{2}} - a^{2} - r^{2}\\right)}\\\\0 & 0 & 0 & \\frac{c^{2} \\left(\\frac{\\left(- \\frac{4 a^{4} r u \\sin^{3}{\\left(\\theta \\right)} \\cos{\\left(\\theta \\right)}}{\\left(a^{2} \\cos^{2}{\\left(\\theta \\right)} + r^{2}\\right)^{2}} - \\frac{4 a^{2} r u \\sin{\\left(\\theta \\right)} \\cos{\\left(\\theta \\right)}}{a^{2} \\cos^{2}{\\left(\\theta \\right)} + r^{2}}\\right) \\sin^{2}{\\left(\\theta \\right)}}{c^{2}} + \\frac{2 \\left(- \\frac{2 a^{2} r u \\sin^{2}{\\left(\\theta \\right)}}{a^{2} \\cos^{2}{\\left(\\theta \\right)} + r^{2}} - a^{2} - r^{2}\\right) \\sin{\\left(\\theta \\right)} \\cos{\\left(\\theta \\right)}}{c^{2}}\\right)}{2 \\left(- \\frac{2 a^{2} r u \\sin^{2}{\\left(\\theta \\right)}}{a^{2} \\cos^{2}{\\left(\\theta \\right)} + r^{2}} - a^{2} - r^{2}\\right) \\sin^{2}{\\left(\\theta \\right)}}\\\\0 & \\frac{\\frac{4 a^{2} r^{2} u \\sin^{2}{\\left(\\theta \\right)}}{\\left(a^{2} \\cos^{2}{\\left(\\theta \\right)} + r^{2}\\right)^{2}} - \\frac{2 a^{2} u \\sin^{2}{\\left(\\theta \\right)}}{a^{2} \\cos^{2}{\\left(\\theta \\right)} + r^{2}} - 2 r}{2 \\left(- \\frac{2 a^{2} r u \\sin^{2}{\\left(\\theta \\right)}}{a^{2} \\cos^{2}{\\left(\\theta \\right)} + r^{2}} - a^{2} - r^{2}\\right)} & \\frac{c^{2} \\left(\\frac{\\left(- \\frac{4 a^{4} r u \\sin^{3}{\\left(\\theta \\right)} \\cos{\\left(\\theta \\right)}}{\\left(a^{2} \\cos^{2}{\\left(\\theta \\right)} + r^{2}\\right)^{2}} - \\frac{4 a^{2} r u \\sin{\\left(\\theta \\right)} \\cos{\\left(\\theta \\right)}}{a^{2} \\cos^{2}{\\left(\\theta \\right)} + r^{2}}\\right) \\sin^{2}{\\left(\\theta \\right)}}{c^{2}} + \\frac{2 \\left(- \\frac{2 a^{2} r u \\sin^{2}{\\left(\\theta \\right)}}{a^{2} \\cos^{2}{\\left(\\theta \\right)} + r^{2}} - a^{2} - r^{2}\\right) \\sin{\\left(\\theta \\right)} \\cos{\\left(\\theta \\right)}}{c^{2}}\\right)}{2 \\left(- \\frac{2 a^{2} r u \\sin^{2}{\\left(\\theta \\right)}}{a^{2} \\cos^{2}{\\left(\\theta \\right)} + r^{2}} - a^{2} - r^{2}\\right) \\sin^{2}{\\left(\\theta \\right)}} & 0\\end{matrix}\\right]\\end{matrix}\\right]$"
      ],
      "text/plain": [
       "[[[0, (4*r**2*u/(a**2*cos(theta)**2 + r**2)**2 - 2*u/(a**2*cos(theta)**2 + r**2))/(2*(-2*r*u/(a**2*cos(theta)**2 + r**2) + 1)), -2*a**2*r*u*sin(theta)*cos(theta)/((a**2*cos(theta)**2 + r**2)**2*(-2*r*u/(a**2*cos(theta)**2 + r**2) + 1)), 0], [(4*r**2*u/(a**2*cos(theta)**2 + r**2)**2 - 2*u/(a**2*cos(theta)**2 + r**2))/(2*(-2*r*u/(a**2*cos(theta)**2 + r**2) + 1)), 0, 0, 2*a*r*u*(4*a**2*r**2*u*sin(theta)**2/(a**2*cos(theta)**2 + r**2)**2 - 2*a**2*u*sin(theta)**2/(a**2*cos(theta)**2 + r**2) - 2*r)*sin(theta)**2/(c*(a**2*cos(theta)**2 + r**2)*(-2*r*u/(a**2*cos(theta)**2 + r**2) + 1)*(-2*a**2*r*u*sin(theta)**2/(a**2*cos(theta)**2 + r**2) - a**2 - r**2)) + (8*a*r**2*u*sin(theta)**2/(c*(a**2*cos(theta)**2 + r**2)**2) - 4*a*u*sin(theta)**2/(c*(a**2*cos(theta)**2 + r**2)))/(2*(-2*r*u/(a**2*cos(theta)**2 + r**2) + 1))], [-2*a**2*r*u*sin(theta)*cos(theta)/((a**2*cos(theta)**2 + r**2)**2*(-2*r*u/(a**2*cos(theta)**2 + r**2) + 1)), 0, 0, 2*a*c*r*u*((-4*a**4*r*u*sin(theta)**3*cos(theta)/(a**2*cos(theta)**2 + r**2)**2 - 4*a**2*r*u*sin(theta)*cos(theta)/(a**2*cos(theta)**2 + r**2))*sin(theta)**2/c**2 + 2*(-2*a**2*r*u*sin(theta)**2/(a**2*cos(theta)**2 + r**2) - a**2 - r**2)*sin(theta)*cos(theta)/c**2)/((a**2*cos(theta)**2 + r**2)*(-2*r*u/(a**2*cos(theta)**2 + r**2) + 1)*(-2*a**2*r*u*sin(theta)**2/(a**2*cos(theta)**2 + r**2) - a**2 - r**2)) + (-8*a**3*r*u*sin(theta)**3*cos(theta)/(c*(a**2*cos(theta)**2 + r**2)**2) - 8*a*r*u*sin(theta)*cos(theta)/(c*(a**2*cos(theta)**2 + r**2)))/(2*(-2*r*u/(a**2*cos(theta)**2 + r**2) + 1))], [0, 2*a*r*u*(4*a**2*r**2*u*sin(theta)**2/(a**2*cos(theta)**2 + r**2)**2 - 2*a**2*u*sin(theta)**2/(a**2*cos(theta)**2 + r**2) - 2*r)*sin(theta)**2/(c*(a**2*cos(theta)**2 + r**2)*(-2*r*u/(a**2*cos(theta)**2 + r**2) + 1)*(-2*a**2*r*u*sin(theta)**2/(a**2*cos(theta)**2 + r**2) - a**2 - r**2)) + (8*a*r**2*u*sin(theta)**2/(c*(a**2*cos(theta)**2 + r**2)**2) - 4*a*u*sin(theta)**2/(c*(a**2*cos(theta)**2 + r**2)))/(2*(-2*r*u/(a**2*cos(theta)**2 + r**2) + 1)), 2*a*c*r*u*((-4*a**4*r*u*sin(theta)**3*cos(theta)/(a**2*cos(theta)**2 + r**2)**2 - 4*a**2*r*u*sin(theta)*cos(theta)/(a**2*cos(theta)**2 + r**2))*sin(theta)**2/c**2 + 2*(-2*a**2*r*u*sin(theta)**2/(a**2*cos(theta)**2 + r**2) - a**2 - r**2)*sin(theta)*cos(theta)/c**2)/((a**2*cos(theta)**2 + r**2)*(-2*r*u/(a**2*cos(theta)**2 + r**2) + 1)*(-2*a**2*r*u*sin(theta)**2/(a**2*cos(theta)**2 + r**2) - a**2 - r**2)) + (-8*a**3*r*u*sin(theta)**3*cos(theta)/(c*(a**2*cos(theta)**2 + r**2)**2) - 8*a*r*u*sin(theta)*cos(theta)/(c*(a**2*cos(theta)**2 + r**2)))/(2*(-2*r*u/(a**2*cos(theta)**2 + r**2) + 1)), 0]], [[c**2*(-4*r**2*u/(a**2*cos(theta)**2 + r**2)**2 + 2*u/(a**2*cos(theta)**2 + r**2))*(a**2 + r**2 - 2*r*u)/(2*(-a**2*cos(theta)**2 - r**2)), 0, 0, 0], [0, c**2*(-2*r/(c**2*(a**2 + r**2 - 2*r*u)) + (-2*r + 2*u)*(-a**2*cos(theta)**2 - r**2)/(c**2*(a**2 + r**2 - 2*r*u)**2))*(a**2 + r**2 - 2*r*u)/(2*(-a**2*cos(theta)**2 - r**2)), a**2*sin(theta)*cos(theta)/(-a**2*cos(theta)**2 - r**2), 0], [0, a**2*sin(theta)*cos(theta)/(-a**2*cos(theta)**2 - r**2), r*(a**2 + r**2 - 2*r*u)/(-a**2*cos(theta)**2 - r**2), 0], [0, 0, 0, -(a**2 + r**2 - 2*r*u)*(4*a**2*r**2*u*sin(theta)**2/(a**2*cos(theta)**2 + r**2)**2 - 2*a**2*u*sin(theta)**2/(a**2*cos(theta)**2 + r**2) - 2*r)*sin(theta)**2/(2*(-a**2*cos(theta)**2 - r**2))]], [[2*a**2*c**2*r*u*sin(theta)*cos(theta)/((-a**2*cos(theta)**2 - r**2)*(a**2*cos(theta)**2 + r**2)**2), 0, 0, 0], [0, -a**2*sin(theta)*cos(theta)/((-a**2*cos(theta)**2 - r**2)*(a**2 + r**2 - 2*r*u)), -r/(-a**2*cos(theta)**2 - r**2), 0], [0, -r/(-a**2*cos(theta)**2 - r**2), a**2*sin(theta)*cos(theta)/(-a**2*cos(theta)**2 - r**2), 0], [0, 0, 0, c**2*(-(-4*a**4*r*u*sin(theta)**3*cos(theta)/(a**2*cos(theta)**2 + r**2)**2 - 4*a**2*r*u*sin(theta)*cos(theta)/(a**2*cos(theta)**2 + r**2))*sin(theta)**2/c**2 - 2*(-2*a**2*r*u*sin(theta)**2/(a**2*cos(theta)**2 + r**2) - a**2 - r**2)*sin(theta)*cos(theta)/c**2)/(2*(-a**2*cos(theta)**2 - r**2))]], [[0, 0, 0, 0], [0, 0, 0, (4*a**2*r**2*u*sin(theta)**2/(a**2*cos(theta)**2 + r**2)**2 - 2*a**2*u*sin(theta)**2/(a**2*cos(theta)**2 + r**2) - 2*r)/(2*(-2*a**2*r*u*sin(theta)**2/(a**2*cos(theta)**2 + r**2) - a**2 - r**2))], [0, 0, 0, c**2*((-4*a**4*r*u*sin(theta)**3*cos(theta)/(a**2*cos(theta)**2 + r**2)**2 - 4*a**2*r*u*sin(theta)*cos(theta)/(a**2*cos(theta)**2 + r**2))*sin(theta)**2/c**2 + 2*(-2*a**2*r*u*sin(theta)**2/(a**2*cos(theta)**2 + r**2) - a**2 - r**2)*sin(theta)*cos(theta)/c**2)/(2*(-2*a**2*r*u*sin(theta)**2/(a**2*cos(theta)**2 + r**2) - a**2 - r**2)*sin(theta)**2)], [0, (4*a**2*r**2*u*sin(theta)**2/(a**2*cos(theta)**2 + r**2)**2 - 2*a**2*u*sin(theta)**2/(a**2*cos(theta)**2 + r**2) - 2*r)/(2*(-2*a**2*r*u*sin(theta)**2/(a**2*cos(theta)**2 + r**2) - a**2 - r**2)), c**2*((-4*a**4*r*u*sin(theta)**3*cos(theta)/(a**2*cos(theta)**2 + r**2)**2 - 4*a**2*r*u*sin(theta)*cos(theta)/(a**2*cos(theta)**2 + r**2))*sin(theta)**2/c**2 + 2*(-2*a**2*r*u*sin(theta)**2/(a**2*cos(theta)**2 + r**2) - a**2 - r**2)*sin(theta)*cos(theta)/c**2)/(2*(-2*a**2*r*u*sin(theta)**2/(a**2*cos(theta)**2 + r**2) - a**2 - r**2)*sin(theta)**2), 0]]]"
      ]
     },
     "execution_count": 4,
     "metadata": {},
     "output_type": "execute_result"
    }
   ],
   "source": [
    "cs = ChristoffelSymbols.from_metric(mt)\n",
    "cs.tensor()"
   ]
  },
  {
   "cell_type": "code",
   "execution_count": 5,
   "metadata": {},
   "outputs": [
    {
     "data": {
      "text/latex": [
       "$\\displaystyle \\left[\\begin{matrix}\\left[\\begin{matrix}0 & \\frac{u \\left(a^{2} \\cos^{2}{\\left(\\theta \\right)} - r^{2}\\right)}{\\left(a^{2} \\cos^{2}{\\left(\\theta \\right)} + r^{2}\\right) \\left(- a^{2} \\cos^{2}{\\left(\\theta \\right)} - r^{2} + 2 r u\\right)} & \\frac{2 a^{2} r u \\sin{\\left(\\theta \\right)} \\cos{\\left(\\theta \\right)}}{\\left(a^{2} \\cos^{2}{\\left(\\theta \\right)} + r^{2}\\right) \\left(- a^{2} \\cos^{2}{\\left(\\theta \\right)} - r^{2} + 2 r u\\right)} & 0\\\\\\frac{u \\left(a^{2} \\cos^{2}{\\left(\\theta \\right)} - r^{2}\\right)}{\\left(a^{2} \\cos^{2}{\\left(\\theta \\right)} + r^{2}\\right) \\left(- a^{2} \\cos^{2}{\\left(\\theta \\right)} - r^{2} + 2 r u\\right)} & 0 & 0 & \\frac{2 a u \\left(a^{6} \\cos^{4}{\\left(\\theta \\right)} - a^{4} r^{2} \\cos^{4}{\\left(\\theta \\right)} - 4 a^{2} r^{4} \\cos^{2}{\\left(\\theta \\right)} - a^{2} r^{4} - 3 r^{6}\\right) \\sin^{2}{\\left(\\theta \\right)}}{c \\left(a^{2} \\cos^{2}{\\left(\\theta \\right)} + r^{2}\\right) \\left(2 a^{2} r u \\sin^{2}{\\left(\\theta \\right)} + \\left(a^{2} + r^{2}\\right) \\left(a^{2} \\cos^{2}{\\left(\\theta \\right)} + r^{2}\\right)\\right) \\left(- a^{2} \\cos^{2}{\\left(\\theta \\right)} - r^{2} + 2 r u\\right)}\\\\\\frac{2 a^{2} r u \\sin{\\left(\\theta \\right)} \\cos{\\left(\\theta \\right)}}{\\left(a^{2} \\cos^{2}{\\left(\\theta \\right)} + r^{2}\\right) \\left(- a^{2} \\cos^{2}{\\left(\\theta \\right)} - r^{2} + 2 r u\\right)} & 0 & 0 & - \\frac{4 a^{3} r u \\left(a^{2} + r^{2} - 2 r u\\right) \\sin^{3}{\\left(\\theta \\right)} \\cos{\\left(\\theta \\right)}}{c \\left(a^{6} \\cos^{4}{\\left(\\theta \\right)} + a^{4} r^{2} \\cos^{4}{\\left(\\theta \\right)} + 2 a^{4} r^{2} \\cos^{2}{\\left(\\theta \\right)} - 2 a^{4} r u \\cos^{4}{\\left(\\theta \\right)} + 2 a^{2} r^{4} \\cos^{2}{\\left(\\theta \\right)} + a^{2} r^{4} - 4 a^{2} r^{3} u \\cos^{2}{\\left(\\theta \\right)} + 4 a^{2} r^{2} u^{2} \\cos^{2}{\\left(\\theta \\right)} - 4 a^{2} r^{2} u^{2} + r^{6} - 2 r^{5} u\\right)}\\\\0 & \\frac{2 a u \\left(a^{6} \\cos^{4}{\\left(\\theta \\right)} - a^{4} r^{2} \\cos^{4}{\\left(\\theta \\right)} - 4 a^{2} r^{4} \\cos^{2}{\\left(\\theta \\right)} - a^{2} r^{4} - 3 r^{6}\\right) \\sin^{2}{\\left(\\theta \\right)}}{c \\left(a^{2} \\cos^{2}{\\left(\\theta \\right)} + r^{2}\\right) \\left(2 a^{2} r u \\sin^{2}{\\left(\\theta \\right)} + \\left(a^{2} + r^{2}\\right) \\left(a^{2} \\cos^{2}{\\left(\\theta \\right)} + r^{2}\\right)\\right) \\left(- a^{2} \\cos^{2}{\\left(\\theta \\right)} - r^{2} + 2 r u\\right)} & - \\frac{4 a^{3} r u \\left(a^{2} + r^{2} - 2 r u\\right) \\sin^{3}{\\left(\\theta \\right)} \\cos{\\left(\\theta \\right)}}{c \\left(a^{6} \\cos^{4}{\\left(\\theta \\right)} + a^{4} r^{2} \\cos^{4}{\\left(\\theta \\right)} + 2 a^{4} r^{2} \\cos^{2}{\\left(\\theta \\right)} - 2 a^{4} r u \\cos^{4}{\\left(\\theta \\right)} + 2 a^{2} r^{4} \\cos^{2}{\\left(\\theta \\right)} + a^{2} r^{4} - 4 a^{2} r^{3} u \\cos^{2}{\\left(\\theta \\right)} + 4 a^{2} r^{2} u^{2} \\cos^{2}{\\left(\\theta \\right)} - 4 a^{2} r^{2} u^{2} + r^{6} - 2 r^{5} u\\right)} & 0\\end{matrix}\\right] & \\left[\\begin{matrix}\\frac{c^{2} u \\left(- a^{2} \\cos^{2}{\\left(\\theta \\right)} + r^{2}\\right) \\left(a^{2} + r^{2} - 2 r u\\right)}{\\left(a^{2} \\cos^{2}{\\left(\\theta \\right)} + r^{2}\\right)^{3}} & 0 & 0 & 0\\\\0 & \\frac{r \\left(a^{2} + r^{2} - 2 r u\\right) + \\left(- r + u\\right) \\left(a^{2} \\cos^{2}{\\left(\\theta \\right)} + r^{2}\\right)}{\\left(a^{2} \\cos^{2}{\\left(\\theta \\right)} + r^{2}\\right) \\left(a^{2} + r^{2} - 2 r u\\right)} & - \\frac{a^{2} \\sin{\\left(2 \\theta \\right)}}{a^{2} \\cos{\\left(2 \\theta \\right)} + a^{2} + 2 r^{2}} & 0\\\\0 & - \\frac{a^{2} \\sin{\\left(2 \\theta \\right)}}{a^{2} \\cos{\\left(2 \\theta \\right)} + a^{2} + 2 r^{2}} & - \\frac{r \\left(a^{2} + r^{2} - 2 r u\\right)}{a^{2} \\cos^{2}{\\left(\\theta \\right)} + r^{2}} & 0\\\\0 & 0 & 0 & \\frac{\\left(- a^{2} - r^{2} + 2 r u\\right) \\left(- 2 a^{2} r^{2} u \\sin^{2}{\\left(\\theta \\right)} + a^{2} u \\left(a^{2} \\cos^{2}{\\left(\\theta \\right)} + r^{2}\\right) \\sin^{2}{\\left(\\theta \\right)} + r \\left(a^{2} \\cos^{2}{\\left(\\theta \\right)} + r^{2}\\right)^{2}\\right) \\sin^{2}{\\left(\\theta \\right)}}{\\left(a^{2} \\cos^{2}{\\left(\\theta \\right)} + r^{2}\\right)^{3}}\\end{matrix}\\right] & \\left[\\begin{matrix}- \\frac{8 a^{2} c^{2} r u \\sin{\\left(2 \\theta \\right)}}{\\left(a^{2} \\cos{\\left(2 \\theta \\right)} + a^{2} + 2 r^{2}\\right)^{3}} & 0 & 0 & 0\\\\0 & \\frac{a^{2} \\sin{\\left(2 \\theta \\right)}}{\\left(a^{2} + r^{2} - 2 r u\\right) \\left(a^{2} \\cos{\\left(2 \\theta \\right)} + a^{2} + 2 r^{2}\\right)} & \\frac{r}{a^{2} \\cos^{2}{\\left(\\theta \\right)} + r^{2}} & 0\\\\0 & \\frac{r}{a^{2} \\cos^{2}{\\left(\\theta \\right)} + r^{2}} & - \\frac{a^{2} \\sin{\\left(2 \\theta \\right)}}{a^{2} \\cos{\\left(2 \\theta \\right)} + a^{2} + 2 r^{2}} & 0\\\\0 & 0 & 0 & - \\frac{\\left(2 a^{2} r u \\left(a^{2} + r^{2}\\right) \\sin^{2}{\\left(\\theta \\right)} + \\left(a^{2} \\cos^{2}{\\left(\\theta \\right)} + r^{2}\\right) \\left(2 a^{2} r u \\sin^{2}{\\left(\\theta \\right)} + \\left(a^{2} + r^{2}\\right) \\left(a^{2} \\cos^{2}{\\left(\\theta \\right)} + r^{2}\\right)\\right)\\right) \\sin{\\left(\\theta \\right)} \\cos{\\left(\\theta \\right)}}{\\left(a^{2} \\cos^{2}{\\left(\\theta \\right)} + r^{2}\\right)^{3}}\\end{matrix}\\right] & \\left[\\begin{matrix}0 & 0 & 0 & 0\\\\0 & 0 & 0 & \\frac{- 2 a^{2} r^{2} u \\sin^{2}{\\left(\\theta \\right)} + a^{2} u \\left(a^{2} \\cos^{2}{\\left(\\theta \\right)} + r^{2}\\right) \\sin^{2}{\\left(\\theta \\right)} + r \\left(a^{2} \\cos^{2}{\\left(\\theta \\right)} + r^{2}\\right)^{2}}{\\left(a^{2} \\cos^{2}{\\left(\\theta \\right)} + r^{2}\\right) \\left(2 a^{2} r u \\sin^{2}{\\left(\\theta \\right)} + \\left(a^{2} + r^{2}\\right) \\left(a^{2} \\cos^{2}{\\left(\\theta \\right)} + r^{2}\\right)\\right)}\\\\0 & 0 & 0 & \\frac{2 a^{2} r u \\left(a^{2} + r^{2}\\right) \\sin^{2}{\\left(\\theta \\right)} + \\left(a^{2} \\cos^{2}{\\left(\\theta \\right)} + r^{2}\\right) \\left(2 a^{2} r u \\sin^{2}{\\left(\\theta \\right)} + \\left(a^{2} + r^{2}\\right) \\left(a^{2} \\cos^{2}{\\left(\\theta \\right)} + r^{2}\\right)\\right)}{\\left(a^{2} \\cos^{2}{\\left(\\theta \\right)} + r^{2}\\right) \\left(2 a^{2} r u \\sin^{2}{\\left(\\theta \\right)} + \\left(a^{2} + r^{2}\\right) \\left(a^{2} \\cos^{2}{\\left(\\theta \\right)} + r^{2}\\right)\\right) \\tan{\\left(\\theta \\right)}}\\\\0 & \\frac{- 2 a^{2} r^{2} u \\sin^{2}{\\left(\\theta \\right)} + a^{2} u \\left(a^{2} \\cos^{2}{\\left(\\theta \\right)} + r^{2}\\right) \\sin^{2}{\\left(\\theta \\right)} + r \\left(a^{2} \\cos^{2}{\\left(\\theta \\right)} + r^{2}\\right)^{2}}{\\left(a^{2} \\cos^{2}{\\left(\\theta \\right)} + r^{2}\\right) \\left(2 a^{2} r u \\sin^{2}{\\left(\\theta \\right)} + \\left(a^{2} + r^{2}\\right) \\left(a^{2} \\cos^{2}{\\left(\\theta \\right)} + r^{2}\\right)\\right)} & \\frac{2 a^{2} r u \\left(a^{2} + r^{2}\\right) \\sin^{2}{\\left(\\theta \\right)} + \\left(a^{2} \\cos^{2}{\\left(\\theta \\right)} + r^{2}\\right) \\left(2 a^{2} r u \\sin^{2}{\\left(\\theta \\right)} + \\left(a^{2} + r^{2}\\right) \\left(a^{2} \\cos^{2}{\\left(\\theta \\right)} + r^{2}\\right)\\right)}{\\left(a^{2} \\cos^{2}{\\left(\\theta \\right)} + r^{2}\\right) \\left(2 a^{2} r u \\sin^{2}{\\left(\\theta \\right)} + \\left(a^{2} + r^{2}\\right) \\left(a^{2} \\cos^{2}{\\left(\\theta \\right)} + r^{2}\\right)\\right) \\tan{\\left(\\theta \\right)}} & 0\\end{matrix}\\right]\\end{matrix}\\right]$"
      ],
      "text/plain": [
       "[[[0, u*(a**2*cos(theta)**2 - r**2)/((a**2*cos(theta)**2 + r**2)*(-a**2*cos(theta)**2 - r**2 + 2*r*u)), 2*a**2*r*u*sin(theta)*cos(theta)/((a**2*cos(theta)**2 + r**2)*(-a**2*cos(theta)**2 - r**2 + 2*r*u)), 0], [u*(a**2*cos(theta)**2 - r**2)/((a**2*cos(theta)**2 + r**2)*(-a**2*cos(theta)**2 - r**2 + 2*r*u)), 0, 0, 2*a*u*(a**6*cos(theta)**4 - a**4*r**2*cos(theta)**4 - 4*a**2*r**4*cos(theta)**2 - a**2*r**4 - 3*r**6)*sin(theta)**2/(c*(a**2*cos(theta)**2 + r**2)*(2*a**2*r*u*sin(theta)**2 + (a**2 + r**2)*(a**2*cos(theta)**2 + r**2))*(-a**2*cos(theta)**2 - r**2 + 2*r*u))], [2*a**2*r*u*sin(theta)*cos(theta)/((a**2*cos(theta)**2 + r**2)*(-a**2*cos(theta)**2 - r**2 + 2*r*u)), 0, 0, -4*a**3*r*u*(a**2 + r**2 - 2*r*u)*sin(theta)**3*cos(theta)/(c*(a**6*cos(theta)**4 + a**4*r**2*cos(theta)**4 + 2*a**4*r**2*cos(theta)**2 - 2*a**4*r*u*cos(theta)**4 + 2*a**2*r**4*cos(theta)**2 + a**2*r**4 - 4*a**2*r**3*u*cos(theta)**2 + 4*a**2*r**2*u**2*cos(theta)**2 - 4*a**2*r**2*u**2 + r**6 - 2*r**5*u))], [0, 2*a*u*(a**6*cos(theta)**4 - a**4*r**2*cos(theta)**4 - 4*a**2*r**4*cos(theta)**2 - a**2*r**4 - 3*r**6)*sin(theta)**2/(c*(a**2*cos(theta)**2 + r**2)*(2*a**2*r*u*sin(theta)**2 + (a**2 + r**2)*(a**2*cos(theta)**2 + r**2))*(-a**2*cos(theta)**2 - r**2 + 2*r*u)), -4*a**3*r*u*(a**2 + r**2 - 2*r*u)*sin(theta)**3*cos(theta)/(c*(a**6*cos(theta)**4 + a**4*r**2*cos(theta)**4 + 2*a**4*r**2*cos(theta)**2 - 2*a**4*r*u*cos(theta)**4 + 2*a**2*r**4*cos(theta)**2 + a**2*r**4 - 4*a**2*r**3*u*cos(theta)**2 + 4*a**2*r**2*u**2*cos(theta)**2 - 4*a**2*r**2*u**2 + r**6 - 2*r**5*u)), 0]], [[c**2*u*(-a**2*cos(theta)**2 + r**2)*(a**2 + r**2 - 2*r*u)/(a**2*cos(theta)**2 + r**2)**3, 0, 0, 0], [0, (r*(a**2 + r**2 - 2*r*u) + (-r + u)*(a**2*cos(theta)**2 + r**2))/((a**2*cos(theta)**2 + r**2)*(a**2 + r**2 - 2*r*u)), -a**2*sin(2*theta)/(a**2*cos(2*theta) + a**2 + 2*r**2), 0], [0, -a**2*sin(2*theta)/(a**2*cos(2*theta) + a**2 + 2*r**2), -r*(a**2 + r**2 - 2*r*u)/(a**2*cos(theta)**2 + r**2), 0], [0, 0, 0, (-a**2 - r**2 + 2*r*u)*(-2*a**2*r**2*u*sin(theta)**2 + a**2*u*(a**2*cos(theta)**2 + r**2)*sin(theta)**2 + r*(a**2*cos(theta)**2 + r**2)**2)*sin(theta)**2/(a**2*cos(theta)**2 + r**2)**3]], [[-8*a**2*c**2*r*u*sin(2*theta)/(a**2*cos(2*theta) + a**2 + 2*r**2)**3, 0, 0, 0], [0, a**2*sin(2*theta)/((a**2 + r**2 - 2*r*u)*(a**2*cos(2*theta) + a**2 + 2*r**2)), r/(a**2*cos(theta)**2 + r**2), 0], [0, r/(a**2*cos(theta)**2 + r**2), -a**2*sin(2*theta)/(a**2*cos(2*theta) + a**2 + 2*r**2), 0], [0, 0, 0, -(2*a**2*r*u*(a**2 + r**2)*sin(theta)**2 + (a**2*cos(theta)**2 + r**2)*(2*a**2*r*u*sin(theta)**2 + (a**2 + r**2)*(a**2*cos(theta)**2 + r**2)))*sin(theta)*cos(theta)/(a**2*cos(theta)**2 + r**2)**3]], [[0, 0, 0, 0], [0, 0, 0, (-2*a**2*r**2*u*sin(theta)**2 + a**2*u*(a**2*cos(theta)**2 + r**2)*sin(theta)**2 + r*(a**2*cos(theta)**2 + r**2)**2)/((a**2*cos(theta)**2 + r**2)*(2*a**2*r*u*sin(theta)**2 + (a**2 + r**2)*(a**2*cos(theta)**2 + r**2)))], [0, 0, 0, (2*a**2*r*u*(a**2 + r**2)*sin(theta)**2 + (a**2*cos(theta)**2 + r**2)*(2*a**2*r*u*sin(theta)**2 + (a**2 + r**2)*(a**2*cos(theta)**2 + r**2)))/((a**2*cos(theta)**2 + r**2)*(2*a**2*r*u*sin(theta)**2 + (a**2 + r**2)*(a**2*cos(theta)**2 + r**2))*tan(theta))], [0, (-2*a**2*r**2*u*sin(theta)**2 + a**2*u*(a**2*cos(theta)**2 + r**2)*sin(theta)**2 + r*(a**2*cos(theta)**2 + r**2)**2)/((a**2*cos(theta)**2 + r**2)*(2*a**2*r*u*sin(theta)**2 + (a**2 + r**2)*(a**2*cos(theta)**2 + r**2))), (2*a**2*r*u*(a**2 + r**2)*sin(theta)**2 + (a**2*cos(theta)**2 + r**2)*(2*a**2*r*u*sin(theta)**2 + (a**2 + r**2)*(a**2*cos(theta)**2 + r**2)))/((a**2*cos(theta)**2 + r**2)*(2*a**2*r*u*sin(theta)**2 + (a**2 + r**2)*(a**2*cos(theta)**2 + r**2))*tan(theta)), 0]]]"
      ]
     },
     "execution_count": 5,
     "metadata": {},
     "output_type": "execute_result"
    }
   ],
   "source": [
    "css = cs.simplify()\n",
    "css"
   ]
  },
  {
   "cell_type": "code",
   "execution_count": null,
   "metadata": {},
   "outputs": [],
   "source": [
    "# A partir de acá las celdas se quedan cargando indefinidamente"
   ]
  },
  {
   "cell_type": "code",
   "execution_count": null,
   "metadata": {},
   "outputs": [],
   "source": [
    "rct = RiemannCurvatureTensor.from_christoffels(cs)\n",
    "rct.tensor()"
   ]
  },
  {
   "cell_type": "code",
   "execution_count": null,
   "metadata": {},
   "outputs": [],
   "source": [
    "rc = RicciTensor.from_metric(mt)\n",
    "rc.tensor()"
   ]
  },
  {
   "cell_type": "code",
   "execution_count": null,
   "metadata": {},
   "outputs": [],
   "source": [
    "re = RicciScalar.from_riccitensor(rc)\n",
    "re.expr"
   ]
  },
  {
   "cell_type": "code",
   "execution_count": null,
   "metadata": {},
   "outputs": [],
   "source": []
  }
 ],
 "metadata": {
  "kernelspec": {
   "display_name": "Python 3",
   "language": "python",
   "name": "python3"
  },
  "language_info": {
   "codemirror_mode": {
    "name": "ipython",
    "version": 3
   },
   "file_extension": ".py",
   "mimetype": "text/x-python",
   "name": "python",
   "nbconvert_exporter": "python",
   "pygments_lexer": "ipython3",
   "version": "3.7.4"
  }
 },
 "nbformat": 4,
 "nbformat_minor": 2
}
